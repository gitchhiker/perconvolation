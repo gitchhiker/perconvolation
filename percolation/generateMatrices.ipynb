{
 "cells": [
  {
   "cell_type": "markdown",
   "metadata": {},
   "source": [
    "## Disclaimer: This file is not kept up to date, and just for experimental purposes. Please look into ``generateMatrices.py``"
   ]
  },
  {
   "cell_type": "code",
   "execution_count": 1,
   "metadata": {},
   "outputs": [
    {
     "name": "stderr",
     "output_type": "stream",
     "text": [
      "/Users/paulw/opt/anaconda3/lib/python3.7/site-packages/skimage/viewer/utils/__init__.py:1: UserWarning: Recommended matplotlib backend is `Agg` for full skimage.viewer functionality.\n",
      "  from .core import *\n"
     ]
    },
    {
     "name": "stdout",
     "output_type": "stream",
     "text": [
      "You are running python 3.7.6 (default, Jan  8 2020, 13:42:34) \n",
      "[Clang 4.0.1 (tags/RELEASE_401/final)]\n"
     ]
    }
   ],
   "source": [
    "import numpy as np\n",
    "# from random import *\n",
    "import matplotlib.pyplot as plt\n",
    "from skimage import io, viewer\n",
    "\n",
    "import sys\n",
    "print(\"You are running python\", sys.version)"
   ]
  },
  {
   "cell_type": "code",
   "execution_count": 2,
   "metadata": {},
   "outputs": [],
   "source": [
    "# The main object: the matrix\n",
    "\n",
    "class Matrix:\n",
    "    def __init__(self, size, density, name):\n",
    "        self.name = name\n",
    "        self.size = size\n",
    "        self.array = np.random.rand(size, size)\n",
    "        self.density = density\n",
    "        self.isTest = False\n",
    "        self.array[self.array > (1-density)] = 1 # first this operatio\n",
    "        self.array[self.array <= (1-density)] = 0\n",
    "\n",
    "    def print_size(self):\n",
    "        print( \"The size of \" , self.name , \" is \" , self.size)\n",
    "\n",
    "    def show_image(self):\n",
    "        viewer.ImageViewer(self.array).show()"
   ]
  },
  {
   "cell_type": "code",
   "execution_count": 4,
   "metadata": {},
   "outputs": [
    {
     "name": "stdout",
     "output_type": "stream",
     "text": [
      "The size of  mat01  is  128\n",
      "[[0. 0. 0. ... 0. 0. 0.]\n",
      " [0. 0. 1. ... 1. 0. 0.]\n",
      " [0. 1. 0. ... 0. 0. 0.]\n",
      " ...\n",
      " [0. 0. 0. ... 0. 0. 0.]\n",
      " [0. 1. 0. ... 0. 0. 0.]\n",
      " [0. 0. 0. ... 0. 1. 1.]]\n",
      "16384\n"
     ]
    }
   ],
   "source": [
    "\n",
    "mat01 = Matrix(128, .2, 'mat01')\n",
    "Matrix.print_size(mat01)\n",
    "# print(mat01.array)\n",
    "# print(mat01.array.size)\n",
    "# mat01.array[mat01.array > .4] = 1\n",
    "# mat01.array[mat01.array <= .4] = 0\n",
    "\n",
    "print(mat01.array)\n",
    "print(mat01.array.size)\n",
    "mat01.show_image()"
   ]
  },
  {
   "cell_type": "code",
   "execution_count": null,
   "metadata": {},
   "outputs": [],
   "source": []
  }
 ],
 "metadata": {
  "kernelspec": {
   "display_name": "Python 3",
   "language": "python",
   "name": "python3"
  },
  "language_info": {
   "codemirror_mode": {
    "name": "ipython",
    "version": 3
   },
   "file_extension": ".py",
   "mimetype": "text/x-python",
   "name": "python",
   "nbconvert_exporter": "python",
   "pygments_lexer": "ipython3",
   "version": "3.7.6"
  }
 },
 "nbformat": 4,
 "nbformat_minor": 4
}
